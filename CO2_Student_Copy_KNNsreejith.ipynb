{
  "nbformat": 4,
  "nbformat_minor": 0,
  "metadata": {
    "colab": {
      "name": "CO2-Student Copy KNNsreejith ",
      "provenance": [],
      "collapsed_sections": [],
      "include_colab_link": true
    },
    "kernelspec": {
      "name": "python3",
      "display_name": "Python 3"
    },
    "language_info": {
      "name": "python"
    }
  },
  "cells": [
    {
      "cell_type": "markdown",
      "metadata": {
        "id": "view-in-github",
        "colab_type": "text"
      },
      "source": [
        "<a href=\"https://colab.research.google.com/github/Sreejith-t-shaji-40/DATASCIENCE-LAB/blob/main/CO2_Student_Copy_KNNsreejith.ipynb\" target=\"_parent\"><img src=\"https://colab.research.google.com/assets/colab-badge.svg\" alt=\"Open In Colab\"/></a>"
      ]
    },
    {
      "cell_type": "markdown",
      "source": [
        "Aim: Program to implement k-NN classification using any standard dataset\n",
        "available in the public domain and find the accuracy of the algorithm"
      ],
      "metadata": {
        "id": "1-G_D6HglkG5"
      }
    },
    {
      "cell_type": "markdown",
      "source": [
        "Algorithm: \n",
        "\n",
        "The class of an unknown instance is computed using the following steps:\n",
        "\n",
        "1. The distance between the unknown instance and all other training instances is computed.\n",
        "2. The k nearest neighbors are identified.\n",
        "3. The class labels of the k nearest neighbors are used to determine the class label of the unknown instance by using techniques like majority voting."
      ],
      "metadata": {
        "id": "O4oCOHITmArc"
      }
    },
    {
      "cell_type": "code",
      "source": [
        "import pandas as pd\n",
        "from sklearn import neighbors, datasets, preprocessing\n",
        "from sklearn.model_selection import train_test_split\n",
        "from sklearn.metrics import accuracy_score\n",
        "df = datasets.load_iris()\n",
        "X, y = df.data[:,:], df.target\n",
        "xTrain, xTest, yTrain, yTest = train_test_split(X, y, stratify = y, test_size = 0.33, random_state= 42)\n",
        "scalar = preprocessing.StandardScaler().fit(xTrain)\n",
        "xTrain = scalar.transform(xTrain)\n",
        "xTest = scalar.transform(xTest)\n",
        "\n"
      ],
      "metadata": {
        "id": "IEpxOP01lnhy"
      },
      "execution_count": null,
      "outputs": []
    },
    {
      "cell_type": "code",
      "source": [
        "xTrain "
      ],
      "metadata": {
        "colab": {
          "base_uri": "https://localhost:8080/"
        },
        "id": "s9B2OYK48QZK",
        "outputId": "706aa898-8288-4451-9da9-2b7552f2936c"
      },
      "execution_count": null,
      "outputs": [
        {
          "output_type": "execute_result",
          "data": {
            "text/plain": [
              "array([[ 4.89131136e-01,  7.14932910e-01,  1.03425476e+00,\n",
              "         1.55502776e+00],\n",
              "       [-9.18440479e-01,  9.34237484e-01, -1.33168750e+00,\n",
              "        -1.16400496e+00],\n",
              "       [-9.73570367e-02, -8.20199106e-01,  7.52594964e-01,\n",
              "         9.07639020e-01],\n",
              "       [-8.01142844e-01, -8.20199106e-01,  7.66114634e-02,\n",
              "         2.60250275e-01],\n",
              "       [-1.50492865e+00,  7.14932910e-01, -1.33168750e+00,\n",
              "        -1.16400496e+00],\n",
              "       [-8.01142844e-01,  2.25006493e+00, -1.27535554e+00,\n",
              "        -1.42296046e+00],\n",
              "       [-2.14654671e-01,  2.90797865e+00, -1.27535554e+00,\n",
              "        -1.03452721e+00],\n",
              "       [ 6.06428771e-01,  5.70191892e-02,  9.77922797e-01,\n",
              "         7.78161271e-01],\n",
              "       [-1.27033338e+00,  5.70191892e-02, -1.21902358e+00,\n",
              "        -1.29348271e+00],\n",
              "       [-1.15303575e+00,  5.70191892e-02, -1.27535554e+00,\n",
              "        -1.29348271e+00],\n",
              "       [ 7.23726405e-01, -6.00894532e-01,  4.70935172e-01,\n",
              "         3.89728024e-01],\n",
              "       [-1.15303575e+00,  5.70191892e-02, -1.27535554e+00,\n",
              "        -1.42296046e+00],\n",
              "       [-9.18440479e-01, -1.25880825e+00, -4.30376162e-01,\n",
              "        -1.28182971e-01],\n",
              "       [ 1.37238232e-01, -1.91672197e+00,  1.32943422e-01,\n",
              "        -2.57660720e-01],\n",
              "       [ 6.06428771e-01, -6.00894532e-01,  1.03425476e+00,\n",
              "         1.16659452e+00],\n",
              "       [ 1.99405979e-02, -1.62285385e-01,  7.52594964e-01,\n",
              "         7.78161271e-01],\n",
              "       [-4.49249940e-01,  2.46936950e+00, -1.33168750e+00,\n",
              "        -1.29348271e+00],\n",
              "       [-1.03573811e+00,  1.15354206e+00, -1.33168750e+00,\n",
              "        -1.29348271e+00],\n",
              "       [ 1.42751221e+00, -1.62285385e-01,  1.20325063e+00,\n",
              "         1.16659452e+00],\n",
              "       [-9.18440479e-01,  1.59215121e+00, -1.05002770e+00,\n",
              "        -1.03452721e+00],\n",
              "       [-9.73570367e-02, -6.00894532e-01,  7.52594964e-01,\n",
              "         1.55502776e+00],\n",
              "       [-6.83845210e-01,  1.37284663e+00, -1.27535554e+00,\n",
              "        -1.29348271e+00],\n",
              "       [-1.27033338e+00,  7.14932910e-01, -1.05002770e+00,\n",
              "        -1.29348271e+00],\n",
              "       [ 2.36589329e+00,  1.59215121e+00,  1.48491042e+00,\n",
              "         1.03711677e+00],\n",
              "       [-1.15303575e+00,  1.15354206e+00, -1.33168750e+00,\n",
              "        -1.42296046e+00],\n",
              "       [ 8.41024040e-01, -3.81589958e-01,  4.70935172e-01,\n",
              "         1.30772526e-01],\n",
              "       [ 3.71833502e-01, -6.00894532e-01,  5.83599089e-01,\n",
              "         7.78161271e-01],\n",
              "       [-4.49249940e-01, -1.25880825e+00,  1.32943422e-01,\n",
              "         1.30772526e-01],\n",
              "       [-1.85682156e+00, -1.62285385e-01, -1.50068337e+00,\n",
              "        -1.42296046e+00],\n",
              "       [-4.49249940e-01, -1.03950368e+00,  3.58271255e-01,\n",
              "         1.29477749e-03],\n",
              "       [-1.27033338e+00, -1.62285385e-01, -1.33168750e+00,\n",
              "        -1.42296046e+00],\n",
              "       [ 9.58321674e-01,  4.95628337e-01,  1.09058671e+00,\n",
              "         1.68450551e+00],\n",
              "       [-4.49249940e-01, -1.47811283e+00,  2.02795050e-02,\n",
              "        -1.28182971e-01],\n",
              "       [ 2.13129802e+00, -1.62285385e-01,  1.31591455e+00,\n",
              "         1.42555001e+00],\n",
              "       [ 3.71833502e-01, -3.81589958e-01,  3.01939297e-01,\n",
              "         1.30772526e-01],\n",
              "       [-1.03573811e+00, -1.62285385e-01, -1.21902358e+00,\n",
              "        -1.29348271e+00],\n",
              "       [-2.14654671e-01, -1.25880825e+00,  6.96263005e-01,\n",
              "         1.03711677e+00],\n",
              "       [-9.18440479e-01,  1.59215121e+00, -1.27535554e+00,\n",
              "        -1.16400496e+00],\n",
              "       [ 6.06428771e-01,  2.76323763e-01,  8.65258881e-01,\n",
              "         1.42555001e+00],\n",
              "       [-1.38763102e+00,  2.76323763e-01, -1.21902358e+00,\n",
              "        -1.29348271e+00],\n",
              "       [-3.31952306e-01, -3.81589958e-01, -9.23844117e-02,\n",
              "         1.30772526e-01],\n",
              "       [-2.14654671e-01, -1.03950368e+00, -1.48716370e-01,\n",
              "        -2.57660720e-01],\n",
              "       [-5.66547575e-01,  1.81145578e+00, -1.38801945e+00,\n",
              "        -1.03452721e+00],\n",
              "       [ 1.19291694e+00,  5.70191892e-02,  9.21590839e-01,\n",
              "         1.16659452e+00],\n",
              "       [-4.49249940e-01, -1.47811283e+00, -3.60524534e-02,\n",
              "        -2.57660720e-01],\n",
              "       [ 8.41024040e-01, -1.62285385e-01,  3.58271255e-01,\n",
              "         2.60250275e-01],\n",
              "       [-4.49249940e-01,  9.34237484e-01, -1.38801945e+00,\n",
              "        -1.29348271e+00],\n",
              "       [-9.73570367e-02, -8.20199106e-01,  7.52594964e-01,\n",
              "         9.07639020e-01],\n",
              "       [ 1.99405979e-02,  2.76323763e-01,  5.83599089e-01,\n",
              "         7.78161271e-01],\n",
              "       [ 2.13129802e+00,  1.59215121e+00,  1.65390630e+00,\n",
              "         1.29607227e+00],\n",
              "       [-1.03573811e+00,  9.34237484e-01, -1.38801945e+00,\n",
              "        -1.16400496e+00],\n",
              "       [-9.73570367e-02, -1.03950368e+00,  1.32943422e-01,\n",
              "         1.29477749e-03],\n",
              "       [-1.73952392e+00, -3.81589958e-01, -1.33168750e+00,\n",
              "        -1.29348271e+00],\n",
              "       [ 4.89131136e-01,  4.95628337e-01,  1.25958259e+00,\n",
              "         1.68450551e+00],\n",
              "       [ 6.06428771e-01, -3.81589958e-01,  3.01939297e-01,\n",
              "         1.30772526e-01],\n",
              "       [ 2.54535867e-01, -6.00894532e-01,  1.32943422e-01,\n",
              "         1.30772526e-01],\n",
              "       [ 1.37238232e-01, -8.20199106e-01,  7.52594964e-01,\n",
              "         5.19205773e-01],\n",
              "       [ 2.54535867e-01, -6.00894532e-01,  5.27267130e-01,\n",
              "         1.29477749e-03],\n",
              "       [ 4.89131136e-01, -1.69741740e+00,  3.58271255e-01,\n",
              "         1.30772526e-01],\n",
              "       [ 9.58321674e-01,  5.70191892e-02,  3.58271255e-01,\n",
              "         2.60250275e-01],\n",
              "       [-3.31952306e-01, -6.00894532e-01,  6.39931047e-01,\n",
              "         1.03711677e+00],\n",
              "       [ 1.07561931e+00, -6.00894532e-01,  5.83599089e-01,\n",
              "         2.60250275e-01],\n",
              "       [ 1.77940512e+00, -6.00894532e-01,  1.31591455e+00,\n",
              "         9.07639020e-01],\n",
              "       [ 4.89131136e-01, -8.20199106e-01,  6.39931047e-01,\n",
              "         7.78161271e-01],\n",
              "       [-1.03573811e+00,  7.14932910e-01, -1.21902358e+00,\n",
              "        -1.03452721e+00],\n",
              "       [ 7.23726405e-01,  2.76323763e-01,  7.52594964e-01,\n",
              "         1.03711677e+00],\n",
              "       [-9.73570367e-02, -8.20199106e-01,  7.66114634e-02,\n",
              "         1.29477749e-03],\n",
              "       [ 1.19291694e+00,  5.70191892e-02,  6.39931047e-01,\n",
              "         3.89728024e-01],\n",
              "       [ 1.07561931e+00, -1.62285385e-01,  9.77922797e-01,\n",
              "         1.16659452e+00],\n",
              "       [-1.50492865e+00,  5.70191892e-02, -1.27535554e+00,\n",
              "        -1.29348271e+00],\n",
              "       [ 2.13129802e+00, -1.03950368e+00,  1.76657021e+00,\n",
              "         1.42555001e+00],\n",
              "       [ 1.54480985e+00, -1.62285385e-01,  1.14691867e+00,\n",
              "         5.19205773e-01],\n",
              "       [ 2.01400039e+00, -1.62285385e-01,  1.59757434e+00,\n",
              "         1.16659452e+00],\n",
              "       [-9.18440479e-01,  1.59215121e+00, -1.21902358e+00,\n",
              "        -1.29348271e+00],\n",
              "       [ 1.37238232e-01, -1.91672197e+00,  6.96263005e-01,\n",
              "         3.89728024e-01],\n",
              "       [-1.27033338e+00,  7.14932910e-01, -1.21902358e+00,\n",
              "        -1.29348271e+00],\n",
              "       [-1.03573811e+00,  9.34237484e-01, -1.21902358e+00,\n",
              "        -7.75571716e-01],\n",
              "       [ 1.54480985e+00,  1.15354206e+00,  1.31591455e+00,\n",
              "         1.68450551e+00],\n",
              "       [ 4.89131136e-01, -3.81589958e-01,  1.03425476e+00,\n",
              "         7.78161271e-01],\n",
              "       [ 4.89131136e-01, -1.25880825e+00,  6.96263005e-01,\n",
              "         9.07639020e-01],\n",
              "       [-8.01142844e-01,  9.34237484e-01, -1.27535554e+00,\n",
              "        -1.29348271e+00],\n",
              "       [ 1.31021458e+00,  2.76323763e-01,  5.27267130e-01,\n",
              "         2.60250275e-01],\n",
              "       [ 1.19291694e+00,  2.76323763e-01,  1.09058671e+00,\n",
              "         1.42555001e+00],\n",
              "       [ 1.54480985e+00,  2.76323763e-01,  1.25958259e+00,\n",
              "         7.78161271e-01],\n",
              "       [-5.66547575e-01,  7.14932910e-01, -1.27535554e+00,\n",
              "        -1.03452721e+00],\n",
              "       [ 4.89131136e-01, -1.25880825e+00,  6.39931047e-01,\n",
              "         3.89728024e-01],\n",
              "       [ 2.54535867e-01, -1.62285385e-01,  4.70935172e-01,\n",
              "         2.60250275e-01],\n",
              "       [ 3.71833502e-01, -1.91672197e+00,  4.14603214e-01,\n",
              "         3.89728024e-01],\n",
              "       [-2.14654671e-01, -1.62285385e-01,  2.45607338e-01,\n",
              "         1.29477749e-03],\n",
              "       [ 1.99405979e-02, -1.62285385e-01,  2.45607338e-01,\n",
              "         3.89728024e-01],\n",
              "       [-9.18440479e-01,  9.34237484e-01, -1.33168750e+00,\n",
              "        -1.29348271e+00],\n",
              "       [ 9.58321674e-01,  4.95628337e-01,  1.09058671e+00,\n",
              "         1.16659452e+00],\n",
              "       [-3.31952306e-01, -8.20199106e-01,  2.45607338e-01,\n",
              "         1.30772526e-01],\n",
              "       [ 1.07561931e+00,  2.76323763e-01,  1.20325063e+00,\n",
              "         1.42555001e+00],\n",
              "       [-5.66547575e-01,  1.81145578e+00, -1.16269162e+00,\n",
              "        -1.03452721e+00],\n",
              "       [-1.03573811e+00,  4.95628337e-01, -1.33168750e+00,\n",
              "        -1.29348271e+00],\n",
              "       [ 9.58321674e-01,  5.70191892e-02,  5.27267130e-01,\n",
              "         3.89728024e-01],\n",
              "       [-1.27033338e+00, -1.62285385e-01, -1.33168750e+00,\n",
              "        -1.16400496e+00],\n",
              "       [-1.03573811e+00, -2.35533112e+00, -1.48716370e-01,\n",
              "        -2.57660720e-01],\n",
              "       [-1.50492865e+00,  2.76323763e-01, -1.33168750e+00,\n",
              "        -1.29348271e+00]])"
            ]
          },
          "metadata": {},
          "execution_count": 5
        }
      ]
    },
    {
      "cell_type": "code",
      "source": [
        "# Identify the ideal value for k\n",
        "# Identify the ideal value for k\n",
        "score = []\n",
        "for k in range(1,15):\n",
        "  knn = neighbors.KNeighborsClassifier(n_neighbors = k)\n",
        "  knn.fit(xTrain,yTrain)\n",
        "  yPred = knn.predict(xTest)\n",
        "  score.append(accuracy_score(yTest,yPred))\n",
        "  print('when k is -> ',k,' accuracy is -> ', accuracy_score(yTest,yPred))"
      ],
      "metadata": {
        "id": "ajHWz-LCmg8r",
        "colab": {
          "base_uri": "https://localhost:8080/"
        },
        "outputId": "2ba7ce04-dd07-4f32-990b-ad2dc0cdcac0"
      },
      "execution_count": null,
      "outputs": [
        {
          "output_type": "stream",
          "name": "stdout",
          "text": [
            "when k is ->  1  accuracy is ->  0.94\n",
            "when k is ->  2  accuracy is ->  0.9\n",
            "when k is ->  3  accuracy is ->  0.94\n",
            "when k is ->  4  accuracy is ->  0.92\n",
            "when k is ->  5  accuracy is ->  0.92\n",
            "when k is ->  6  accuracy is ->  0.92\n",
            "when k is ->  7  accuracy is ->  0.96\n",
            "when k is ->  8  accuracy is ->  0.96\n",
            "when k is ->  9  accuracy is ->  0.96\n",
            "when k is ->  10  accuracy is ->  0.96\n",
            "when k is ->  11  accuracy is ->  0.96\n",
            "when k is ->  12  accuracy is ->  0.96\n",
            "when k is ->  13  accuracy is ->  0.96\n",
            "when k is ->  14  accuracy is ->  0.96\n"
          ]
        }
      ]
    },
    {
      "cell_type": "code",
      "source": [
        "# S4.2: Train kNN regressor model for 'k = 6'.\n",
        "knn6 = neighbors.KNeighborsClassifier(n_neighbors=6)\n",
        "knn6.fit(xTrain,yTrain)\n",
        "\n",
        "# Perform prediction using 'predict()' function.\n",
        "yTest_Pred = knn6.predict(xTest)\n",
        "\n",
        "# Call the 'score()' function to check the accuracy score of the train set and test set.\n",
        "print('test accuracy -> ', knn6.score(xTest, yTest))"
      ],
      "metadata": {
        "id": "Lappjoo8eZ51",
        "colab": {
          "base_uri": "https://localhost:8080/"
        },
        "outputId": "b1493db6-c432-4957-e5aa-8db19bc87ebf"
      },
      "execution_count": null,
      "outputs": [
        {
          "output_type": "stream",
          "name": "stdout",
          "text": [
            "test accuracy ->  0.92\n"
          ]
        }
      ]
    },
    {
      "cell_type": "code",
      "source": [
        "print(yTest)"
      ],
      "metadata": {
        "colab": {
          "base_uri": "https://localhost:8080/"
        },
        "id": "fTjDHNB28qqp",
        "outputId": "6033efed-e109-4883-b845-53ff30d6a92d"
      },
      "execution_count": null,
      "outputs": [
        {
          "output_type": "stream",
          "name": "stdout",
          "text": [
            "[2 1 0 1 2 1 1 0 1 1 0 0 0 0 0 2 2 1 2 1 2 1 0 2 0 2 2 0 0 2 2 2 0 1 0 0 2\n",
            " 1 1 1 1 1 0 0 2 1 2 2 1 2]\n"
          ]
        }
      ]
    },
    {
      "cell_type": "code",
      "source": [
        "print(yTest_Pred)"
      ],
      "metadata": {
        "colab": {
          "base_uri": "https://localhost:8080/"
        },
        "id": "T0z94T6I8yH5",
        "outputId": "269fd94a-0c5f-452c-d4c4-aa5624f4bec9"
      },
      "execution_count": null,
      "outputs": [
        {
          "output_type": "stream",
          "name": "stdout",
          "text": [
            "[1 1 0 1 2 1 1 0 1 1 0 0 0 0 0 2 1 1 2 1 2 1 0 2 0 2 2 0 0 2 2 2 0 1 0 0 2\n",
            " 1 1 1 1 1 0 0 1 1 2 1 1 2]\n"
          ]
        }
      ]
    },
    {
      "cell_type": "code",
      "source": [
        "#confusion matrix\n",
        "from sklearn.metrics import confusion_matrix, classification_report\n",
        "print('CONFUSION MATRIX')\n",
        "print('================')\n",
        "print(confusion_matrix(yTest,yTest_Pred))\n",
        "print(classification_report(yTest,yTest_Pred))"
      ],
      "metadata": {
        "colab": {
          "base_uri": "https://localhost:8080/"
        },
        "id": "czzA2Kpy81yI",
        "outputId": "650277a6-9f8d-424b-9835-94def37cd5bb"
      },
      "execution_count": null,
      "outputs": [
        {
          "output_type": "stream",
          "name": "stdout",
          "text": [
            "CONFUSION MATRIX\n",
            "================\n",
            "[[16  0  0]\n",
            " [ 0 17  0]\n",
            " [ 0  4 13]]\n",
            "              precision    recall  f1-score   support\n",
            "\n",
            "           0       1.00      1.00      1.00        16\n",
            "           1       0.81      1.00      0.89        17\n",
            "           2       1.00      0.76      0.87        17\n",
            "\n",
            "    accuracy                           0.92        50\n",
            "   macro avg       0.94      0.92      0.92        50\n",
            "weighted avg       0.94      0.92      0.92        50\n",
            "\n"
          ]
        }
      ]
    }
  ]
}