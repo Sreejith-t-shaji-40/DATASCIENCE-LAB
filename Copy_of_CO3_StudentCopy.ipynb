{
  "nbformat": 4,
  "nbformat_minor": 0,
  "metadata": {
    "colab": {
      "name": "Copy_of_CO3_StudentCopy.ipynb",
      "provenance": [],
      "collapsed_sections": [
        "m9dW2iOz-9Y-"
      ],
      "include_colab_link": true
    },
    "kernelspec": {
      "name": "python3",
      "display_name": "Python 3"
    }
  },
  "cells": [
    {
      "cell_type": "markdown",
      "metadata": {
        "id": "view-in-github",
        "colab_type": "text"
      },
      "source": [
        "<a href=\"https://colab.research.google.com/github/Sreejith-t-shaji-40/DATASCIENCE-LAB/blob/main/Copy_of_CO3_StudentCopy.ipynb\" target=\"_parent\"><img src=\"https://colab.research.google.com/assets/colab-badge.svg\" alt=\"Open In Colab\"/></a>"
      ]
    },
    {
      "cell_type": "markdown",
      "metadata": {
        "id": "m9dW2iOz-9Y-"
      },
      "source": [
        "### Problem Statement \n",
        "\n",
        "As an owner of a startup, you wish to forecast the sales of your product to plan how much money should be spent on advertisements. This is because the sale of a product is usually proportional to the money spent on advertisements.\n",
        "\n",
        "Predict the impact of TV advertising on your product sales by performing simple linear regression analysis. \n",
        "\n",
        "\n",
        "\n"
      ]
    },
    {
      "cell_type": "markdown",
      "metadata": {
        "id": "l2W51RVUDq5Q"
      },
      "source": [
        "---"
      ]
    },
    {
      "cell_type": "markdown",
      "metadata": {
        "id": "b-0V3uyC_wkC"
      },
      "source": [
        "### List of Activities\n",
        "\n",
        "**Activity 1:** Analysing the dataset\n",
        "\n",
        "  \n",
        "**Activity 2:**  Train-Test split\n",
        "\n",
        "**Activity 3:**  Model training\n",
        "\n",
        "**Activity 4:** Plotting the best fit line\n",
        "\n",
        "**Activity 5:** Model prediction\n",
        "\n",
        "\n",
        "\n"
      ]
    },
    {
      "cell_type": "markdown",
      "metadata": {
        "id": "iPsloISKDsAG"
      },
      "source": [
        "---"
      ]
    },
    {
      "cell_type": "markdown",
      "metadata": {
        "id": "hEtQxeW__6oW"
      },
      "source": [
        "\n",
        "#### Activity 1:  Analysing the Dataset\n",
        "\n",
        "Create a Pandas DataFrame for **Advertising-Sales** dataset using the below link. This dataset contains information about the money spent on the TV, radio and newspaper advertisement (in thousand dollars) and their generated sales (in thousand units). The dataset consists of examples that are divided by 1000.\n",
        "\n",
        "**Dataset Link:** https://raw.githubusercontent.com/jiss-sngce/CO_3/main/advertising.csv\n",
        "\n",
        "Also, print the first five rows of the dataset. Check for null values and treat them accordingly.\n",
        "\n",
        "\n"
      ]
    },
    {
      "cell_type": "code",
      "metadata": {
        "id": "BdIrU2M0AWLK",
        "colab": {
          "base_uri": "https://localhost:8080/",
          "height": 206
        },
        "outputId": "eba3a689-0466-4cdc-ab41-d9f71c9d45dd"
      },
      "source": [
        "# Import modules\n",
        "import pandas as pd\n",
        "import matplotlib.pyplot as plt\n",
        "\n",
        "\n",
        "# Load the dataset\n",
        "df = pd.read_csv(\"https://raw.githubusercontent.com/jiss-sngce/CO_3/main/advertising.csv\")\n",
        "# Print first five rows using head() function\n",
        "df.head()"
      ],
      "execution_count": null,
      "outputs": [
        {
          "output_type": "execute_result",
          "data": {
            "text/html": [
              "<div>\n",
              "<style scoped>\n",
              "    .dataframe tbody tr th:only-of-type {\n",
              "        vertical-align: middle;\n",
              "    }\n",
              "\n",
              "    .dataframe tbody tr th {\n",
              "        vertical-align: top;\n",
              "    }\n",
              "\n",
              "    .dataframe thead th {\n",
              "        text-align: right;\n",
              "    }\n",
              "</style>\n",
              "<table border=\"1\" class=\"dataframe\">\n",
              "  <thead>\n",
              "    <tr style=\"text-align: right;\">\n",
              "      <th></th>\n",
              "      <th>TV</th>\n",
              "      <th>Radio</th>\n",
              "      <th>Newspaper</th>\n",
              "      <th>Sales</th>\n",
              "    </tr>\n",
              "  </thead>\n",
              "  <tbody>\n",
              "    <tr>\n",
              "      <th>0</th>\n",
              "      <td>230.1</td>\n",
              "      <td>37.8</td>\n",
              "      <td>69.2</td>\n",
              "      <td>22.1</td>\n",
              "    </tr>\n",
              "    <tr>\n",
              "      <th>1</th>\n",
              "      <td>44.5</td>\n",
              "      <td>39.3</td>\n",
              "      <td>45.1</td>\n",
              "      <td>10.4</td>\n",
              "    </tr>\n",
              "    <tr>\n",
              "      <th>2</th>\n",
              "      <td>17.2</td>\n",
              "      <td>45.9</td>\n",
              "      <td>69.3</td>\n",
              "      <td>12.0</td>\n",
              "    </tr>\n",
              "    <tr>\n",
              "      <th>3</th>\n",
              "      <td>151.5</td>\n",
              "      <td>41.3</td>\n",
              "      <td>58.5</td>\n",
              "      <td>16.5</td>\n",
              "    </tr>\n",
              "    <tr>\n",
              "      <th>4</th>\n",
              "      <td>180.8</td>\n",
              "      <td>10.8</td>\n",
              "      <td>58.4</td>\n",
              "      <td>17.9</td>\n",
              "    </tr>\n",
              "  </tbody>\n",
              "</table>\n",
              "</div>"
            ],
            "text/plain": [
              "      TV  Radio  Newspaper  Sales\n",
              "0  230.1   37.8       69.2   22.1\n",
              "1   44.5   39.3       45.1   10.4\n",
              "2   17.2   45.9       69.3   12.0\n",
              "3  151.5   41.3       58.5   16.5\n",
              "4  180.8   10.8       58.4   17.9"
            ]
          },
          "metadata": {},
          "execution_count": 24
        }
      ]
    },
    {
      "cell_type": "code",
      "metadata": {
        "id": "8LXtVcLdhxo7",
        "colab": {
          "base_uri": "https://localhost:8080/"
        },
        "outputId": "8ab1d290-f743-4bec-b0d3-de90e2090d60"
      },
      "source": [
        "# Check if there are any null values. If any column has null values, treat them accordingly\n",
        "df.isnull().sum()"
      ],
      "execution_count": null,
      "outputs": [
        {
          "output_type": "execute_result",
          "data": {
            "text/plain": [
              "TV           0\n",
              "Radio        0\n",
              "Newspaper    0\n",
              "Sales        0\n",
              "dtype: int64"
            ]
          },
          "metadata": {},
          "execution_count": 23
        }
      ]
    },
    {
      "cell_type": "code",
      "source": [
        "df.head()"
      ],
      "metadata": {
        "colab": {
          "base_uri": "https://localhost:8080/",
          "height": 206
        },
        "id": "dUJ3V0_lk7Lj",
        "outputId": "8da4db59-19b2-4e71-dc89-e88599edc0c1"
      },
      "execution_count": null,
      "outputs": [
        {
          "output_type": "execute_result",
          "data": {
            "text/html": [
              "<div>\n",
              "<style scoped>\n",
              "    .dataframe tbody tr th:only-of-type {\n",
              "        vertical-align: middle;\n",
              "    }\n",
              "\n",
              "    .dataframe tbody tr th {\n",
              "        vertical-align: top;\n",
              "    }\n",
              "\n",
              "    .dataframe thead th {\n",
              "        text-align: right;\n",
              "    }\n",
              "</style>\n",
              "<table border=\"1\" class=\"dataframe\">\n",
              "  <thead>\n",
              "    <tr style=\"text-align: right;\">\n",
              "      <th></th>\n",
              "      <th>TV</th>\n",
              "      <th>Radio</th>\n",
              "      <th>Newspaper</th>\n",
              "      <th>Sales</th>\n",
              "    </tr>\n",
              "  </thead>\n",
              "  <tbody>\n",
              "    <tr>\n",
              "      <th>0</th>\n",
              "      <td>230.1</td>\n",
              "      <td>37.8</td>\n",
              "      <td>69.2</td>\n",
              "      <td>22.1</td>\n",
              "    </tr>\n",
              "    <tr>\n",
              "      <th>1</th>\n",
              "      <td>44.5</td>\n",
              "      <td>39.3</td>\n",
              "      <td>45.1</td>\n",
              "      <td>10.4</td>\n",
              "    </tr>\n",
              "    <tr>\n",
              "      <th>2</th>\n",
              "      <td>17.2</td>\n",
              "      <td>45.9</td>\n",
              "      <td>69.3</td>\n",
              "      <td>12.0</td>\n",
              "    </tr>\n",
              "    <tr>\n",
              "      <th>3</th>\n",
              "      <td>151.5</td>\n",
              "      <td>41.3</td>\n",
              "      <td>58.5</td>\n",
              "      <td>16.5</td>\n",
              "    </tr>\n",
              "    <tr>\n",
              "      <th>4</th>\n",
              "      <td>180.8</td>\n",
              "      <td>10.8</td>\n",
              "      <td>58.4</td>\n",
              "      <td>17.9</td>\n",
              "    </tr>\n",
              "  </tbody>\n",
              "</table>\n",
              "</div>"
            ],
            "text/plain": [
              "      TV  Radio  Newspaper  Sales\n",
              "0  230.1   37.8       69.2   22.1\n",
              "1   44.5   39.3       45.1   10.4\n",
              "2   17.2   45.9       69.3   12.0\n",
              "3  151.5   41.3       58.5   16.5\n",
              "4  180.8   10.8       58.4   17.9"
            ]
          },
          "metadata": {},
          "execution_count": 26
        }
      ]
    },
    {
      "cell_type": "markdown",
      "metadata": {
        "id": "rm8nBjLwiqzC"
      },
      "source": [
        "---"
      ]
    },
    {
      "cell_type": "markdown",
      "metadata": {
        "id": "lx5UydtLIYyG"
      },
      "source": [
        "#### Activity 2: Train-Test Split\n",
        "\n",
        "For simple linear regression, consider only the effect of **TV ads** on sales. Thus, `TV` is the feature variable and `Sales` is the target variable. \n",
        "\n",
        "Split the dataset into training set and test set such that the training set contains 67% of the instances and the remaining instances will become the test set.\n",
        "\n",
        "\n"
      ]
    },
    {
      "cell_type": "code",
      "metadata": {
        "id": "REuLvaloGigG",
        "colab": {
          "base_uri": "https://localhost:8080/"
        },
        "outputId": "5be7234f-072a-456c-eb96-eba237c0ab72"
      },
      "source": [
        "# Split the DataFrame into the training and test s\\\n",
        "from sklearn.datasets import make_blobs\n",
        "from sklearn.model_selection import train_test_split\n",
        "x=df['TV']\n",
        "y=df['Sales']\n",
        "X_train, X_test, y_train, y_test = train_test_split(x, y, test_size=0.33)\n",
        "print(X_train.shape, X_test.shape, y_train.shape, y_test.shape)"
      ],
      "execution_count": null,
      "outputs": [
        {
          "output_type": "stream",
          "name": "stdout",
          "text": [
            "(134,) (66,) (134,) (66,)\n"
          ]
        }
      ]
    },
    {
      "cell_type": "markdown",
      "metadata": {
        "id": "fSxPcV0ySZDu"
      },
      "source": [
        "---"
      ]
    },
    {
      "cell_type": "markdown",
      "metadata": {
        "id": "-k2GAbeQQq7Q"
      },
      "source": [
        "#### Activity 3: Model Training\n",
        "\n",
        "Train the simple regression model using **training data** to obtain the best fit line $y = mx + c$. For this, perform the following tasks:\n",
        "\n",
        "1. Create following two functions:\n",
        "\n",
        " - A function `errors_product()` that calculates the errors for the feature and target variables i.e. $(x_i - \\bar{x})(y_i - \\bar{y})$\n",
        "\n",
        " - A function `squared_errors()` that calculates the squared errors for the feature variable only i.e. $(x_i - \\bar{x})^2$\n",
        "\n",
        "2. Calculate the **slope** and **intercept** values for the best fit line by applying the following formulae:\n",
        " $$slope\\Rightarrow m = \\frac{\\sum(x_i - \\bar{x})(y_i - \\bar{y})}{\\sum (x_i - \\bar{x})^2}=\\frac{ errors\\_product().sum()}{squared\\_errors().sum()}$$\n",
        "\n",
        " $$intercept \\Rightarrow c = \\bar{y} - m \\bar{x}$$\n",
        "\n"
      ]
    },
    {
      "cell_type": "code",
      "metadata": {
        "id": "a__FT7MHHve4"
      },
      "source": [
        "# Create the 'errors_product()' and 'squared_errors()' function.\n",
        "def errors_product():\n",
        "  error_prod = (X_train-X_train.mean())*(y_train-y_train.mean())\n",
        "  return error_prod\n",
        "def squared_error():\n",
        "  sqr_err =(X_train-X_train.mean())*(X_train-X_train.mean())\n",
        "  return sqr_err"
      ],
      "execution_count": null,
      "outputs": []
    },
    {
      "cell_type": "code",
      "metadata": {
        "id": "UyGNYvU7H0hR",
        "colab": {
          "base_uri": "https://localhost:8080/"
        },
        "outputId": "c655b607-1fce-4c3d-f305-5ffb622b270c"
      },
      "source": [
        "# Calculate the slope and intercept values for the best fit line.\n",
        "m = errors_product().sum()/squared_error().sum()\n",
        "c = y_train.mean()-m*X_train.mean()\n",
        "print(m,c)"
      ],
      "execution_count": null,
      "outputs": [
        {
          "output_type": "stream",
          "name": "stdout",
          "text": [
            "0.054681680513842895 7.144871896128112\n"
          ]
        }
      ]
    },
    {
      "cell_type": "markdown",
      "metadata": {
        "id": "cLJaPWLtfY8g"
      },
      "source": [
        "**Q:** What is the equation obtained for the best fit line of this model?\n",
        "\n",
        "**A:** c = y_train.mean()-m*X_train.mean()"
      ]
    },
    {
      "cell_type": "markdown",
      "metadata": {
        "id": "2_3_qkZThe1W"
      },
      "source": [
        "---"
      ]
    },
    {
      "cell_type": "markdown",
      "metadata": {
        "id": "3AO9GzYGe0bm"
      },
      "source": [
        "#### Activity 4: Plotting the Best Fit Line\n",
        "\n",
        "After obtaining the slope and intercept values for the best fit line, plot this line along with the scatter plot to see how well it fits the points.\n"
      ]
    },
    {
      "cell_type": "code",
      "metadata": {
        "id": "6zzogPW1H46r",
        "colab": {
          "base_uri": "https://localhost:8080/",
          "height": 284
        },
        "outputId": "423690a5-5a3a-491b-c835-83ee7c2269d5"
      },
      "source": [
        "#  Plot the regression line in the scatter plot between Sales and TV advertisment values.\n",
        "plt.scatter(X_train,y_train)\n",
        "plt.plot(df['TV'],m*df['TV']+c,color='r')"
      ],
      "execution_count": null,
      "outputs": [
        {
          "output_type": "execute_result",
          "data": {
            "text/plain": [
              "[<matplotlib.lines.Line2D at 0x7fa03b1ee650>]"
            ]
          },
          "metadata": {},
          "execution_count": 60
        },
        {
          "output_type": "display_data",
          "data": {
            "image/png": "[encoded data removed]",
            "text/plain": [
              "<Figure size 432x288 with 1 Axes>"
            ]
          },
          "metadata": {
            "needs_background": "light"
          }
        }
      ]
    },
    {
      "cell_type": "markdown",
      "metadata": {
        "id": "VCnDWR0lSayX"
      },
      "source": [
        "---"
      ]
    },
    {
      "cell_type": "markdown",
      "metadata": {
        "id": "ZcXTWRKuRAIs"
      },
      "source": [
        "#### Activity 5: Model Prediction\n",
        "\n",
        "For the TV advertising of $50,000, what is prediction for Sales? In order to predict this value, perform the following task:\n",
        "\n",
        "- Based on the regression line, create a function `sales_predicted()` which takes a budget to be used for TV advertising as an input and returns the corresponding units of Sales.\n",
        "- Call the function `sales_predicted()` and pass the amount spent on TV advertising. \n",
        "\n",
        "**Note:** To predict the sales for TV advertising of $50,000, pass 50 as parameter to `sales_predicted()` function as the original data of this dataset consists of examples that are divided by 1000. Also, the value obtained after calling `sales_predicted(50)` must be multiplied by 1000 to obtain the predicted units of sales.\n",
        "\n"
      ]
    },
    {
      "cell_type": "code",
      "metadata": {
        "id": "RKKT9L8nIfL_",
        "colab": {
          "base_uri": "https://localhost:8080/"
        },
        "outputId": "fd1c5f98-c4f3-49c8-c955-62940293600a"
      },
      "source": [
        "#Create a function which takes TV advertisement value as an input and returns the sales.\n",
        "def sale_predict(TV_adv):\n",
        "  return 0.057*TV_adv+c\n",
        "\n",
        "# Calculating sales value against $50,000 spent in TV ads\n",
        "sale=sale_predict(50)*1000\n",
        "print(sale)"
      ],
      "execution_count": null,
      "outputs": [
        {
          "output_type": "stream",
          "name": "stdout",
          "text": [
            "9994.871896128112\n"
          ]
        }
      ]
    },
    {
      "cell_type": "markdown",
      "metadata": {
        "id": "RMl41ptEpLhi"
      },
      "source": [
        "**Q:** If you are planning to invest $50,000 dollars in TV advertising, how many unit of sales can be predicted according to this simple linear regression model?\n",
        "\n",
        "**A:** 9994.871896128112"
      ]
    },
    {
      "cell_type": "markdown",
      "metadata": {
        "id": "6Ybzt1WtVTiz"
      },
      "source": [
        "---"
      ]
    }
  ]
}